{
 "cells": [
  {
   "cell_type": "code",
   "execution_count": 3,
   "id": "e3666c42",
   "metadata": {},
   "outputs": [
    {
     "name": "stdout",
     "output_type": "stream",
     "text": [
      "Looking in indexes: https://pypi.org/simple, https://pypi.ngc.nvidia.com\n",
      "Collecting openpyxl\n",
      "  Downloading openpyxl-3.1.5-py2.py3-none-any.whl.metadata (2.5 kB)\n",
      "Collecting et-xmlfile (from openpyxl)\n",
      "  Downloading et_xmlfile-2.0.0-py3-none-any.whl.metadata (2.7 kB)\n",
      "Downloading openpyxl-3.1.5-py2.py3-none-any.whl (250 kB)\n",
      "Downloading et_xmlfile-2.0.0-py3-none-any.whl (18 kB)\n",
      "Installing collected packages: et-xmlfile, openpyxl\n",
      "Successfully installed et-xmlfile-2.0.0 openpyxl-3.1.5\n",
      "Note: you may need to restart the kernel to use updated packages.\n"
     ]
    },
    {
     "name": "stderr",
     "output_type": "stream",
     "text": [
      "\n",
      "[notice] A new release of pip is available: 24.3.1 -> 25.1.1\n",
      "[notice] To update, run: python.exe -m pip install --upgrade pip\n"
     ]
    }
   ],
   "source": [
    "import pandas as pd \n",
    "%pip install openpyxl\n"
   ]
  },
  {
   "cell_type": "code",
   "execution_count": 8,
   "id": "b24ab2b5",
   "metadata": {},
   "outputs": [
    {
     "data": {
      "text/plain": [
       "['Orders', 'Returns', 'People']"
      ]
     },
     "execution_count": 8,
     "metadata": {},
     "output_type": "execute_result"
    }
   ],
   "source": [
    "xls= pd.ExcelFile(\"global_superstore_2016.xlsx\")\n",
    "xls.sheet_names"
   ]
  },
  {
   "cell_type": "code",
   "execution_count": 9,
   "id": "30f5a1db",
   "metadata": {},
   "outputs": [],
   "source": [
    "orders = pd.read_excel(xls, sheet_name=\"Orders\", engine='openpyxl')\n",
    "people = pd.read_excel(xls, sheet_name=\"People\", engine='openpyxl')\n",
    "returns = pd.read_excel(xls, sheet_name=\"Returns\", engine='openpyxl')"
   ]
  },
  {
   "cell_type": "code",
   "execution_count": 11,
   "id": "720989ff",
   "metadata": {},
   "outputs": [
    {
     "name": "stdout",
     "output_type": "stream",
     "text": [
      "   Row ID                  Order ID Order Date  Ship Date     Ship Mode  \\\n",
      "0   40098  CA-2014-AB10015140-41954 2014-11-11 2014-11-13   First Class   \n",
      "1   26341    IN-2014-JR162107-41675 2014-02-05 2014-02-07  Second Class   \n",
      "2   25330    IN-2014-CR127307-41929 2014-10-17 2014-10-18   First Class   \n",
      "3   13524   ES-2014-KM1637548-41667 2014-01-28 2014-01-30   First Class   \n",
      "4   47221   SG-2014-RH9495111-41948 2014-11-05 2014-11-06      Same Day   \n",
      "\n",
      "    Customer ID     Customer Name      Segment  Postal Code           City  \\\n",
      "0  AB-100151402     Aaron Bergman     Consumer      73120.0  Oklahoma City   \n",
      "1     JR-162107     Justin Ritter    Corporate          NaN     Wollongong   \n",
      "2     CR-127307      Craig Reiter     Consumer          NaN       Brisbane   \n",
      "3    KM-1637548  Katherine Murray  Home Office          NaN         Berlin   \n",
      "4    RH-9495111       Rick Hansen     Consumer          NaN          Dakar   \n",
      "\n",
      "   ...   Product ID    Category Sub-Category  \\\n",
      "0  ...  TEC-PH-5816  Technology       Phones   \n",
      "1  ...  FUR-CH-5379   Furniture       Chairs   \n",
      "2  ...  TEC-PH-5356  Technology       Phones   \n",
      "3  ...  TEC-PH-5267  Technology       Phones   \n",
      "4  ...  TEC-CO-6011  Technology      Copiers   \n",
      "\n",
      "                                Product Name     Sales Quantity Discount  \\\n",
      "0                           Samsung Convoy 3   221.980        2      0.0   \n",
      "1  Novimex Executive Leather Armchair, Black  3709.395        9      0.1   \n",
      "2          Nokia Smart Phone, with Caller ID  5175.171        9      0.1   \n",
      "3             Motorola Smart Phone, Cordless  2892.510        5      0.1   \n",
      "4             Sharp Wireless Fax, High-Speed  2832.960        8      0.0   \n",
      "\n",
      "     Profit  Shipping Cost  Order Priority  \n",
      "0   62.1544          40.77            High  \n",
      "1 -288.7650         923.63        Critical  \n",
      "2  919.9710         915.49          Medium  \n",
      "3  -96.5400         910.16          Medium  \n",
      "4  311.5200         903.04        Critical  \n",
      "\n",
      "[5 rows x 24 columns]\n"
     ]
    }
   ],
   "source": [
    "print(orders.head())"
   ]
  },
  {
   "cell_type": "code",
   "execution_count": 12,
   "id": "0079d282",
   "metadata": {},
   "outputs": [
    {
     "name": "stdout",
     "output_type": "stream",
     "text": [
      "              Person           Region\n",
      "0  Marilène Rousseau        Caribbean\n",
      "1   Andile Ihejirika   Central Africa\n",
      "2  Nicodemo Bautista  Central America\n",
      "3     Cansu Peynirci     Central Asia\n",
      "4         Lon Bonher       Central US\n"
     ]
    }
   ],
   "source": [
    "print(people.head())"
   ]
  },
  {
   "cell_type": "code",
   "execution_count": 15,
   "id": "00c7669b",
   "metadata": {},
   "outputs": [],
   "source": [
    "orders['Order Date']= pd.to_datetime(orders['Order Date'],errors='coerce')\n",
    "orders['Ship Date'] = pd.to_datetime(orders['Ship Date'], errors='coerce')\n",
    "\n",
    "# Convert Sales and Profit to numeric (in case they're stored as text)\n",
    "orders['Sales'] = pd.to_numeric(orders['Sales'], errors='coerce')\n",
    "orders['Profit'] = pd.to_numeric(orders['Profit'], errors='coerce')\n"
   ]
  },
  {
   "cell_type": "code",
   "execution_count": 16,
   "id": "bd659f5f",
   "metadata": {},
   "outputs": [
    {
     "data": {
      "text/plain": [
       "51290"
      ]
     },
     "execution_count": 16,
     "metadata": {},
     "output_type": "execute_result"
    }
   ],
   "source": [
    "len(orders)"
   ]
  },
  {
   "cell_type": "code",
   "execution_count": 17,
   "id": "f62f732b",
   "metadata": {},
   "outputs": [],
   "source": [
    "orders.dropna(subset=['Order ID','Order Date','Sales','Profit'],inplace=True)"
   ]
  },
  {
   "cell_type": "code",
   "execution_count": 18,
   "id": "e57180ac",
   "metadata": {},
   "outputs": [
    {
     "data": {
      "text/plain": [
       "51290"
      ]
     },
     "execution_count": 18,
     "metadata": {},
     "output_type": "execute_result"
    }
   ],
   "source": [
    "len(orders)"
   ]
  },
  {
   "cell_type": "code",
   "execution_count": 24,
   "id": "8371fec0",
   "metadata": {},
   "outputs": [
    {
     "name": "stdout",
     "output_type": "stream",
     "text": [
      "   Row ID                 Order ID Order Date  Ship Date       Ship Mode  \\\n",
      "0   220.0  US-2012-RR1952536-41270 2012-12-27 2012-12-29    Second Class   \n",
      "1  2641.0  US-2012-LH1675036-41129 2012-08-08 2012-08-08        Same Day   \n",
      "2   879.0  MX-2015-TM2149031-42329 2015-11-21 2015-11-21        Same Day   \n",
      "3  5306.0  MX-2015-TB2125031-42289 2015-10-12 2015-10-15     First Class   \n",
      "4  6019.0  MX-2013-JF1529531-41564 2013-10-17 2013-10-21  Standard Class   \n",
      "\n",
      "  Customer ID   Customer Name    Segment  Postal Code              City  ...  \\\n",
      "0  RR-1952536       Rick Reed  Corporate          NaN     Santo Domingo  ...   \n",
      "1  LH-1675036    Larry Hughes   Consumer          NaN     Santo Domingo  ...   \n",
      "2  TM-2149031   Tony Molinari   Consumer          NaN          Camagüey  ...   \n",
      "3  TB-2125031    Tim Brockman   Consumer          NaN  Santiago de Cuba  ...   \n",
      "4  JF-1529531  Jason Fortune-   Consumer          NaN        Guantánamo  ...   \n",
      "\n",
      "     Category Sub-Category                                 Product Name  \\\n",
      "0  Technology       Phones                    Samsung Smart Phone, VoIP   \n",
      "1  Technology       Phones                Samsung Smart Phone, Cordless   \n",
      "2  Technology      Copiers              Brother Fax Machine, High-Speed   \n",
      "3   Furniture       Tables   Chromcraft Computer Table, Fully Assembled   \n",
      "4   Furniture       Chairs  Office Star Executive Leather Armchair, Red   \n",
      "\n",
      "       Sales Quantity Discount    Profit Shipping Cost  Order Priority  \\\n",
      "0  1696.6400      5.0    0.200 -148.4600       704.056        Critical   \n",
      "1  2044.8000      6.0    0.200 -332.2800       417.990            High   \n",
      "2  1053.6884      5.0    0.002  441.2884       367.549            High   \n",
      "3  1483.0000      5.0    0.000  741.5000       303.649            High   \n",
      "4  2818.0800      9.0    0.000  225.3600       289.515            High   \n",
      "\n",
      "              Person  \n",
      "0  Marilène Rousseau  \n",
      "1  Marilène Rousseau  \n",
      "2  Marilène Rousseau  \n",
      "3  Marilène Rousseau  \n",
      "4  Marilène Rousseau  \n",
      "\n",
      "[5 rows x 25 columns]\n",
      "50908\n"
     ]
    }
   ],
   "source": [
    "order_people = orders.merge(people,how='right',on='Region')\n",
    "print(order_people.head())\n",
    "print(len(order_people))"
   ]
  },
  {
   "cell_type": "code",
   "execution_count": null,
   "id": "586abc9f",
   "metadata": {},
   "outputs": [],
   "source": []
  }
 ],
 "metadata": {
  "kernelspec": {
   "display_name": "Python 3",
   "language": "python",
   "name": "python3"
  },
  "language_info": {
   "codemirror_mode": {
    "name": "ipython",
    "version": 3
   },
   "file_extension": ".py",
   "mimetype": "text/x-python",
   "name": "python",
   "nbconvert_exporter": "python",
   "pygments_lexer": "ipython3",
   "version": "3.12.7"
  }
 },
 "nbformat": 4,
 "nbformat_minor": 5
}
